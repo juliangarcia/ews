{
 "metadata": {
  "name": ""
 },
 "nbformat": 3,
 "nbformat_minor": 0,
 "worksheets": [
  {
   "cells": [
    {
     "cell_type": "code",
     "collapsed": false,
     "input": [
      "%pylab inline"
     ],
     "language": "python",
     "metadata": {},
     "outputs": [
      {
       "output_type": "stream",
       "stream": "stdout",
       "text": [
        "Populating the interactive namespace from numpy and matplotlib\n"
       ]
      }
     ],
     "prompt_number": 1
    },
    {
     "cell_type": "markdown",
     "metadata": {},
     "source": [
      "This assumes that *ews.py* and *visualization.py* are in the same folder of this notebook."
     ]
    },
    {
     "cell_type": "markdown",
     "metadata": {},
     "source": [
      "#Estimating the number of ranking changes"
     ]
    },
    {
     "cell_type": "markdown",
     "metadata": {},
     "source": [
      "We need to specify some parameters to call the estimation procedure."
     ]
    },
    {
     "cell_type": "code",
     "collapsed": false,
     "input": [
      "!python ews.py"
     ],
     "language": "python",
     "metadata": {},
     "outputs": [
      {
       "output_type": "stream",
       "stream": "stdout",
       "text": [
        "Traceback (most recent call last):\r\n",
        "  File \"ews.py\", line 298, in <module>\r\n",
        "    assert len(sys.argv) == 5, \"You must specify the SEED, the NUMBER_OF_STRATEGIES \" \\\r\n",
        "AssertionError: You must specify the SEED, the NUMBER_OF_STRATEGIES and the NUMBER_OF_REPETITIONS, and the DISTRIBUTION_TYPE 0 -- UNIFORM, 1 -- NORMAL\r\n"
       ]
      }
     ],
     "prompt_number": 2
    },
    {
     "cell_type": "markdown",
     "metadata": {},
     "source": [
      "Let us call the estimation procedure with **SEED=1234**, **3** strategies, **50** samples and uniformly distributed games. Fifty samples will not give a quality estimate, but it is fine for demonstration purposes. This will take a couple of minutes..."
     ]
    },
    {
     "cell_type": "code",
     "collapsed": false,
     "input": [
      "!python ews.py 1234 3 50 0"
     ],
     "language": "python",
     "metadata": {},
     "outputs": [
      {
       "output_type": "stream",
       "stream": "stdout",
       "text": [
        "Files n_3_dist_0_seed_1234_count.pickle and ma_n_3_dist_0_seed_1234_count.pickle have been created\r\n"
       ]
      }
     ],
     "prompt_number": 3
    },
    {
     "cell_type": "markdown",
     "metadata": {},
     "source": [
      "We can list the newly created files"
     ]
    },
    {
     "cell_type": "code",
     "collapsed": false,
     "input": [
      "!ls -l *.pickle"
     ],
     "language": "python",
     "metadata": {},
     "outputs": [
      {
       "output_type": "stream",
       "stream": "stdout",
       "text": [
        "-rw-rw-rw-  1 garcia  staff  54 Oct  4 10:46 ma_n_3_dist_0_seed_1234_count.pickle\r\n",
        "-rw-rw-rw-  1 garcia  staff  62 Oct  4 10:46 n_3_dist_0_seed_1234_count.pickle\r\n"
       ]
      }
     ],
     "prompt_number": 4
    },
    {
     "cell_type": "markdown",
     "metadata": {},
     "source": [
      "We can inspect the results by [unpickling](http://docs.python.org/2/library/pickle.html) the new files."
     ]
    },
    {
     "cell_type": "code",
     "collapsed": false,
     "input": [
      "import pickle\n",
      "filename_ranking_counts = 'n_3_dist_0_seed_1234_count.pickle'\n",
      "filename_most_abundant_counts = 'ma_n_3_dist_0_seed_1234_count.pickle'"
     ],
     "language": "python",
     "metadata": {},
     "outputs": [],
     "prompt_number": 5
    },
    {
     "cell_type": "code",
     "collapsed": false,
     "input": [
      "ranking_changes = pickle.load(open(filename_ranking_counts))\n",
      "most_abundant_changes = pickle.load(open(filename_most_abundant_counts))"
     ],
     "language": "python",
     "metadata": {},
     "outputs": [],
     "prompt_number": 6
    },
    {
     "cell_type": "code",
     "collapsed": false,
     "input": [
      "ranking_changes"
     ],
     "language": "python",
     "metadata": {},
     "outputs": [
      {
       "metadata": {},
       "output_type": "pyout",
       "prompt_number": 7,
       "text": [
        "Counter({0: 34, 1: 13, 2: 3})"
       ]
      }
     ],
     "prompt_number": 7
    },
    {
     "cell_type": "markdown",
     "metadata": {},
     "source": [
      "In this paticular estimate, out of 50 samples, 34 have no ranking changes, 13 have one ranking change and 3 have two ranking changes."
     ]
    },
    {
     "cell_type": "code",
     "collapsed": false,
     "input": [
      "most_abundant_changes"
     ],
     "language": "python",
     "metadata": {},
     "outputs": [
      {
       "metadata": {},
       "output_type": "pyout",
       "prompt_number": 8,
       "text": [
        "Counter({0: 42, 1: 8})"
       ]
      }
     ],
     "prompt_number": 8
    },
    {
     "cell_type": "markdown",
     "metadata": {},
     "source": [
      "In 8 out of 50 cases, the most abundant strategy changes once."
     ]
    },
    {
     "cell_type": "markdown",
     "metadata": {},
     "source": [
      "#Inside the sampling procedure"
     ]
    },
    {
     "cell_type": "markdown",
     "metadata": {},
     "source": [
      "We first import *ews.py* to load all the function definitions. "
     ]
    },
    {
     "cell_type": "code",
     "collapsed": false,
     "input": [
      "from ews import *"
     ],
     "language": "python",
     "metadata": {},
     "outputs": [],
     "prompt_number": 9
    },
    {
     "cell_type": "markdown",
     "metadata": {},
     "source": [
      "The first step in our estimation is to generate a random game. For this example, we use 3 strategies and uniformly distributed payoffs."
     ]
    },
    {
     "cell_type": "code",
     "collapsed": false,
     "input": [
      "number_of_strategies = 3\n",
      "distribution_type = 0 # for uniform\n",
      "a_random_game = random_game(number_of_strategies, distribution_type)\n",
      "print a_random_game"
     ],
     "language": "python",
     "metadata": {},
     "outputs": [
      {
       "output_type": "stream",
       "stream": "stdout",
       "text": [
        "[[ 0.89150299  0.18478255  0.43155487]\n",
        " [ 0.0920854   0.80987834  0.04519806]\n",
        " [ 0.88729132  0.56049353  0.20090459]]\n"
       ]
      }
     ],
     "prompt_number": 10
    },
    {
     "cell_type": "markdown",
     "metadata": {},
     "source": [
      "Let us create a vector of selection intensities, in order to compute the abundance curves. Inside this process, for every intensity of selection we will compute the transition matrix of the markov chain that describe the imitation process, and then compute the stationary distribution."
     ]
    },
    {
     "cell_type": "markdown",
     "metadata": {},
     "source": [
      "We use the default limits in variables LEFT_LIMIT and RIGHT_LIMIT:"
     ]
    },
    {
     "cell_type": "code",
     "collapsed": false,
     "input": [
      "'Intensity of selection interval = {}'.format((10**LEFT_LIMIT, 10**RIGHT_LIMIT))"
     ],
     "language": "python",
     "metadata": {},
     "outputs": [
      {
       "metadata": {},
       "output_type": "pyout",
       "prompt_number": 11,
       "text": [
        "'Intensity of selection interval = (0.001, 4.466835921509632)'"
       ]
      }
     ],
     "prompt_number": 11
    },
    {
     "cell_type": "code",
     "collapsed": false,
     "input": [
      "intensity_vector = np.logspace(LEFT_LIMIT, RIGHT_LIMIT, num=100,\n",
      "                                       endpoint=True)"
     ],
     "language": "python",
     "metadata": {},
     "outputs": [],
     "prompt_number": 12
    },
    {
     "cell_type": "markdown",
     "metadata": {},
     "source": [
      "We create an auxliary matrix that contains the abundances vector across the values of our intensity vector.\n",
      "\n",
      "Therefore, this matrix has as many columns as strategies in our game, and as many rows as values in *intensity_vector*"
     ]
    },
    {
     "cell_type": "code",
     "collapsed": false,
     "input": [
      "population_size = 30\n",
      "matrix = get_curves_truncating(intensity_vector, a_random_game,\n",
      "                                           population_size,\n",
      "                                           truncate=True)"
     ],
     "language": "python",
     "metadata": {},
     "outputs": [],
     "prompt_number": 13
    },
    {
     "cell_type": "markdown",
     "metadata": {},
     "source": [
      "What are the dimensions of matrix?"
     ]
    },
    {
     "cell_type": "code",
     "collapsed": false,
     "input": [
      "matrix.shape"
     ],
     "language": "python",
     "metadata": {},
     "outputs": [
      {
       "metadata": {},
       "output_type": "pyout",
       "prompt_number": 14,
       "text": [
        "(96, 3)"
       ]
      }
     ],
     "prompt_number": 14
    },
    {
     "cell_type": "markdown",
     "metadata": {},
     "source": [
      "Note that if *matrix* has lesss than 100 values, the graph has been truncated to avoid overflow. This happens when selection is strong enough and the stationary distribution becomes a singleton."
     ]
    },
    {
     "cell_type": "markdown",
     "metadata": {},
     "source": [
      "Now we can count how many intersections are there for this case:"
     ]
    },
    {
     "cell_type": "code",
     "collapsed": false,
     "input": [
      "count_intersections(matrix)"
     ],
     "language": "python",
     "metadata": {},
     "outputs": [
      {
       "metadata": {},
       "output_type": "pyout",
       "prompt_number": 15,
       "text": [
        "0"
       ]
      }
     ],
     "prompt_number": 15
    },
    {
     "cell_type": "markdown",
     "metadata": {},
     "source": [
      "And how many changes in the most abundant strategy"
     ]
    },
    {
     "cell_type": "code",
     "collapsed": false,
     "input": [
      "count_most_abundant_changes(matrix)"
     ],
     "language": "python",
     "metadata": {},
     "outputs": [
      {
       "metadata": {},
       "output_type": "pyout",
       "prompt_number": 16,
       "text": [
        "0"
       ]
      }
     ],
     "prompt_number": 16
    },
    {
     "cell_type": "markdown",
     "metadata": {},
     "source": [
      "We can now use the function in visualization.py to build a graph."
     ]
    },
    {
     "cell_type": "code",
     "collapsed": false,
     "input": [
      "from visualization import plot_abundance"
     ],
     "language": "python",
     "metadata": {},
     "outputs": [],
     "prompt_number": 17
    },
    {
     "cell_type": "code",
     "collapsed": false,
     "input": [
      "plot_abundance(matrix, intensity_vector)"
     ],
     "language": "python",
     "metadata": {},
     "outputs": [
      {
       "metadata": {},
       "output_type": "display_data",
       "png": "[encoded data removed]",
       "text": [
        "<matplotlib.figure.Figure at 0x1022c3890>"
       ]
      }
     ],
     "prompt_number": 18
    },
    {
     "cell_type": "markdown",
     "metadata": {},
     "source": [
      "Feel free to re-run the cells up to here to generate another example. "
     ]
    },
    {
     "cell_type": "markdown",
     "metadata": {},
     "source": [
      "#Using the functions judiciously"
     ]
    },
    {
     "cell_type": "markdown",
     "metadata": {},
     "source": [
      "We can use the functions in *ews.py*, for instance, to replicate **Figure 3A**."
     ]
    },
    {
     "cell_type": "code",
     "collapsed": false,
     "input": [
      "figure_3a_game = np.array([[0.18,0.91,0.85],[0.11,0.59,0.78],[0.75,0.11,0.54]])"
     ],
     "language": "python",
     "metadata": {},
     "outputs": [],
     "prompt_number": 19
    },
    {
     "cell_type": "code",
     "collapsed": false,
     "input": [
      "intensity_vector = np.logspace(LEFT_LIMIT, RIGHT_LIMIT, num=100,\n",
      "                                       endpoint=True)"
     ],
     "language": "python",
     "metadata": {},
     "outputs": [],
     "prompt_number": 20
    },
    {
     "cell_type": "code",
     "collapsed": false,
     "input": [
      "auxiliary_matrix = get_curves_truncating(intensity_vector, figure_3a_game, population_size=30, truncate=True)"
     ],
     "language": "python",
     "metadata": {},
     "outputs": [],
     "prompt_number": 21
    },
    {
     "cell_type": "code",
     "collapsed": false,
     "input": [
      "plot_abundance(auxiliary_matrix, intensity_vector)"
     ],
     "language": "python",
     "metadata": {},
     "outputs": [
      {
       "metadata": {},
       "output_type": "display_data",
       "png": "[encoded data removed]",
       "text": [
        "<matplotlib.figure.Figure at 0x105720fd0>"
       ]
      }
     ],
     "prompt_number": 22
    },
    {
     "cell_type": "markdown",
     "metadata": {},
     "source": [
      "#Tests"
     ]
    },
    {
     "cell_type": "markdown",
     "metadata": {},
     "source": [
      "We can also run the unit tests."
     ]
    },
    {
     "cell_type": "code",
     "collapsed": false,
     "input": [
      "!python tests.py"
     ],
     "language": "python",
     "metadata": {},
     "outputs": [
      {
       "output_type": "stream",
       "stream": "stdout",
       "text": [
        ".."
       ]
      },
      {
       "output_type": "stream",
       "stream": "stdout",
       "text": [
        "......\r\n",
        "----------------------------------------------------------------------\r\n",
        "Ran 8 tests in 2.885s\r\n",
        "\r\n",
        "OK\r\n"
       ]
      }
     ],
     "prompt_number": 23
    },
    {
     "cell_type": "code",
     "collapsed": false,
     "input": [],
     "language": "python",
     "metadata": {},
     "outputs": []
    }
   ],
   "metadata": {}
  }
 ]
}